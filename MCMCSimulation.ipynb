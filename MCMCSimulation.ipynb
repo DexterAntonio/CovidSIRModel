{
 "cells": [
  {
   "cell_type": "markdown",
   "metadata": {},
   "source": [
    "# Simulating Pandemics with MCMC Simualtions"
   ]
  },
  {
   "cell_type": "markdown",
   "metadata": {},
   "source": [
    "## Stage one. Simulate the SIS model\n",
    "* The transition probabilities in these models are not static. \n",
    "* We have to reculate the probabilites depending on the state of the system\n",
    "* \n"
   ]
  },
  {
   "cell_type": "code",
   "execution_count": 1,
   "metadata": {},
   "outputs": [],
   "source": [
    "from random import uniform\n",
    "import matplotlib.pyplot as plt \n",
    "import numpy as np"
   ]
  },
  {
   "cell_type": "code",
   "execution_count": null,
   "metadata": {},
   "outputs": [],
   "source": [
    "def calculate_increase_prop(i, beta, N, delta_t):\n",
    "    return beta * i * (N - i) / N * delta_t"
   ]
  },
  {
   "cell_type": "code",
   "execution_count": null,
   "metadata": {},
   "outputs": [],
   "source": [
    "def calculate_recovered_prop(i, gamma, delta_t):\n",
    "    return gamma * i * delta_t"
   ]
  },
  {
   "cell_type": "code",
   "execution_count": null,
   "metadata": {},
   "outputs": [],
   "source": [
    "def run_SIS_simulation(beta=0.5, gamma=0.52, N=1000, delta_t=1, iterations=10000, i_start=1):\n",
    "    i_list = [i_start]\n",
    "    s_list = [N - i_list[-1]]\n",
    "    for n in range(0, iterations):\n",
    "        i = i_list[-1]\n",
    "        s = s_list[-1]\n",
    "        increase_prob = calculate_increase_prop(i, beta, N, delta_t)\n",
    "        decrease_prob = calculate_recovered_prop(i, gamma, delta_t)\n",
    "        no_change_prob = 1 - increase_prob - decrease_prob\n",
    "        u = uniform(0, 1)\n",
    "        if u < increase_prob:\n",
    "            i_new = i + 1\n",
    "            s_new = s - 1\n",
    "        elif u > increase_prob and u < (increase_prob + decrease_prob):\n",
    "            i_new = i - 1\n",
    "            s_new = s + 1\n",
    "        else:\n",
    "            i_new = i\n",
    "            s_new = s\n",
    "        \n",
    "        i_list.append(i_new)\n",
    "        s_list.append(s_new)\n",
    "    return np.arange(0, iterations*delta_t + delta_t, delta_t), i_list, s_list"
   ]
  },
  {
   "cell_type": "code",
   "execution_count": null,
   "metadata": {},
   "outputs": [],
   "source": [
    "for sim in range(1, 7):\n",
    "    t, i, s = run_SIS_simulation(gamma=0.04, beta=0.08, delta_t=0.01, iterations=100000)\n",
    "    plt.figure()\n",
    "    plt.title(f'Simulation {sim:0d}')\n",
    "    plt.plot(t, i, label='infected')\n",
    "    plt.plot(t, s, label='suseptible')\n",
    "    plt.legend()"
   ]
  },
  {
   "cell_type": "markdown",
   "metadata": {},
   "source": [
    "# Multiple Epidemic MCMC Modeling"
   ]
  },
  {
   "cell_type": "markdown",
   "metadata": {},
   "source": [
    "* Let $K^{(v)}_t$ be the number of people immune to a virus $v$ at timepoint $t$. \n",
    "* Let $S^{v}_t$ be the number of people suseptible to a virus at timepoint $t$.\n",
    "* Let $I^{v}_t$ be the number of people infected wtih a virus at time point $t$. \n",
    "* Let $K^{(0)}_t = N\\ \\forall\\ t > 0$ Representing the entire population"
   ]
  },
  {
   "cell_type": "code",
   "execution_count": null,
   "metadata": {},
   "outputs": [],
   "source": []
  },
  {
   "cell_type": "code",
   "execution_count": 2,
   "metadata": {},
   "outputs": [],
   "source": [
    "timepoints = 1000\n",
    "N = 1_000\n",
    "K = np.zeros((3, timepoints))\n",
    "S = np.zeros((3, timepoints))\n",
    "I = np.zeros((3, timepoints))\n",
    "beta = 0.5\n",
    "gamma = 0.052\n",
    "K[0, :] = N"
   ]
  },
  {
   "cell_type": "markdown",
   "metadata": {},
   "source": [
    "\n",
    "$\\frac{\\Delta {K}^{(v)}_t}{\\Delta t}=\\frac{\\beta I^{(v)}_tS^{(v)}_t}{n}$"
   ]
  },
  {
   "cell_type": "code",
   "execution_count": 3,
   "metadata": {},
   "outputs": [],
   "source": [
    "def deltaK(I, S, N, beta):\n",
    "    return  beta * I * S / N"
   ]
  },
  {
   "cell_type": "markdown",
   "metadata": {},
   "source": [
    "\n",
    "$\\frac{\\Delta I^{(v)}_t}{\\Delta t}=\\frac{\\beta I^{(v)}_tS^{(v)}_t}{n}-\\gamma I = \\frac{\\Delta K}{\\Delta t} - \\frac{\\Delta R}{\\Delta t}$"
   ]
  },
  {
   "cell_type": "code",
   "execution_count": 4,
   "metadata": {},
   "outputs": [],
   "source": [
    "def deltaI(I, S, N, gamma):\n",
    "    return  beta * I * S / N - gamma * I"
   ]
  },
  {
   "cell_type": "markdown",
   "metadata": {},
   "source": [
    "$\\frac{\\Delta R^{(v)}_t}{\\Delta t}=\\gamma I$"
   ]
  },
  {
   "cell_type": "code",
   "execution_count": 5,
   "metadata": {},
   "outputs": [],
   "source": [
    "def deltaR(I, gamma):\n",
    "    return gamma * I"
   ]
  },
  {
   "cell_type": "code",
   "execution_count": 60,
   "metadata": {},
   "outputs": [],
   "source": [
    "def calc_S(R, K, alpha):\n",
    "    s = np.zeros_like(R)\n",
    "    select = np.ones((len(R), len(R)), dtype=bool)\n",
    "    np.fill_diagonal(select, False)\n",
    "    RMS = (R - K) * alpha\n",
    "    for i in range(len(s)):\n",
    "        s[i] = np.sum(RMS[select[i, :]], axis=0)\n",
    "    return s\n"
   ]
  },
  {
   "cell_type": "code",
   "execution_count": 61,
   "metadata": {},
   "outputs": [],
   "source": [
    "from numpy.random import uniform"
   ]
  },
  {
   "cell_type": "code",
   "execution_count": 199,
   "metadata": {},
   "outputs": [
    {
     "name": "stderr",
     "output_type": "stream",
     "text": [
      "/var/folders/x3/gpdd4yds209b7gltxchcxcd00000gn/T/ipykernel_34087/2536851157.py:2: RuntimeWarning: overflow encountered in multiply\n",
      "  return  beta * I * S / N\n",
      "/Users/dexter/Dropbox/Code/DiseaseModeling/.venv/lib/python3.9/site-packages/numpy/core/fromnumeric.py:86: RuntimeWarning: overflow encountered in reduce\n",
      "  return ufunc.reduce(obj, axis, dtype, out, **passkwargs)\n",
      "/var/folders/x3/gpdd4yds209b7gltxchcxcd00000gn/T/ipykernel_34087/2536851157.py:2: RuntimeWarning: invalid value encountered in multiply\n",
      "  return  beta * I * S / N\n",
      "/var/folders/x3/gpdd4yds209b7gltxchcxcd00000gn/T/ipykernel_34087/2958890017.py:5: RuntimeWarning: invalid value encountered in multiply\n",
      "  RMS = (R - K) * alpha\n"
     ]
    }
   ],
   "source": [
    "# change these parameters to see what happens! \n",
    "timepoints = 10000\n",
    "n_vars = 5\n",
    "N = 1_000\n",
    "K = np.zeros((n_vars, timepoints))\n",
    "S = np.zeros((n_vars, timepoints))\n",
    "I = np.zeros((n_vars, timepoints))\n",
    "R = np.zeros((n_vars, timepoints))\n",
    "alpha = np.ones((n_vars, timepoints)) * 0.5 # how much immunity is encured by getting one variant\n",
    "beta = np.ones((n_vars, timepoints)) * 10.1\n",
    "gamma = np.ones((n_vars, timepoints)) * 0.0005\n",
    "# special case for healthy case\n",
    "gamma[0, :] = 0\n",
    "alpha[0, :] = 0 \n",
    "K[0, :] = N\n",
    "\n",
    "# set initial conditions for other cases\n",
    "I[1:, 0] = 1\n",
    "S[:, 0] = N\n",
    "\n",
    "for i in range(1, timepoints):\n",
    "    u1 = np.random.uniform(0, 1, size=n_vars)\n",
    "    dK = (u1 < deltaK(I[:, i - 1], S[:, i - 1], N, beta[:, i-1])).astype('int')\n",
    "    K[:, i] = dK + K[:, i - 1]\n",
    "    u2 = np.random.uniform(0, 1, size=(n_vars))\n",
    "    dR = (u2 < deltaR(I[:, i - 1], gamma[:, i-1])).astype('int')\n",
    "    R[:, i] = dR + R[:, i -1]\n",
    "    I[:, i] = I[:, i - 1] + dK - dR\n",
    "    S[:, i] = calc_S(R[:, i-1], S[:, i-1], alpha[:, i -1])"
   ]
  },
  {
   "cell_type": "code",
   "execution_count": 198,
   "metadata": {},
   "outputs": [
    {
     "data": {
      "text/plain": [
       "<matplotlib.legend.Legend at 0x174792dc0>"
      ]
     },
     "execution_count": 198,
     "metadata": {},
     "output_type": "execute_result"
    },
    {
     "data": {
      "image/png": "[encoded data removed]",
      "text/plain": [
       "<Figure size 640x480 with 1 Axes>"
      ]
     },
     "metadata": {},
     "output_type": "display_data"
    }
   ],
   "source": [
    "plt.figure()\n",
    "for i, row in enumerate(I[1:], 1):\n",
    "    plt.plot(row, label=f'variant {i}')\n",
    "plt.legend()"
   ]
  },
  {
   "cell_type": "code",
   "execution_count": 157,
   "metadata": {},
   "outputs": [
    {
     "ename": "IndentationError",
     "evalue": "unexpected indent (4125504159.py, line 2)",
     "output_type": "error",
     "traceback": [
      "\u001b[0;36m  Cell \u001b[0;32mIn [157], line 2\u001b[0;36m\u001b[0m\n\u001b[0;31m    i_list = [i_start]\u001b[0m\n\u001b[0m    ^\u001b[0m\n\u001b[0;31mIndentationError\u001b[0m\u001b[0;31m:\u001b[0m unexpected indent\n"
     ]
    }
   ],
   "source": [
    "def run_SIS_simulation(beta=0.5, gamma=0.52, N=1000, delta_t=1, iterations=10000, i_start=1):k\n",
    "    i_list = [i_start]\n",
    "    s_list = [N - i_list[-1]]\n",
    "    for n in range(0, iterations):\n",
    "        i = i_list[-1]\n",
    "        s = s_list[-1]\n",
    "        increase_prob = calculate_increase_prop(i, beta, N, delta_t)\n",
    "        decrease_prob = calculate_recovered_prop(i, gamma, delta_t)\n",
    "        no_change_prob = 1 - increase_prob - decrease_prob\n",
    "        u = uniform(0, 1)\n",
    "        if u < increase_prob:\n",
    "            i_new = i + 1\n",
    "            s_new = s - 1\n",
    "        elif u > increase_prob and u < (increase_prob + decrease_prob):\n",
    "            i_new = i - 1\n",
    "            s_new = s + 1\n",
    "        else:\n",
    "            i_new = i\n",
    "            s_new = s\n",
    "        \n",
    "        i_list.append(i_new)\n",
    "        s_list.append(s_new)\n",
    "    return np.arange(0, iterations*delta_t + delta_t, delta_t), i_list, s_list"
   ]
  },
  {
   "cell_type": "code",
   "execution_count": null,
   "metadata": {},
   "outputs": [],
   "source": []
  }
 ],
 "metadata": {
  "kernelspec": {
   "display_name": "Python 3.9.14 ('.venv': venv)",
   "language": "python",
   "name": "python3"
  },
  "language_info": {
   "codemirror_mode": {
    "name": "ipython",
    "version": 3
   },
   "file_extension": ".py",
   "mimetype": "text/x-python",
   "name": "python",
   "nbconvert_exporter": "python",
   "pygments_lexer": "ipython3",
   "version": "3.9.14"
  },
  "orig_nbformat": 4,
  "vscode": {
   "interpreter": {
    "hash": "c1590288c4291616b22d79c8879813dac3caa878d785433cac79735a91bcc8f3"
   }
  }
 },
 "nbformat": 4,
 "nbformat_minor": 2
}
